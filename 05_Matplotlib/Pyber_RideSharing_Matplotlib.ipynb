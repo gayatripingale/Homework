{
 "cells": [
  {
   "cell_type": "markdown",
   "metadata": {},
   "source": [
    "### Analysis from all the charts: ###\n",
    "\n",
    "1.From the bubble plot it is very clear that both,the number of drivers and, the number of ridesare more in the\n",
    "Urban area as compare to Suburban and the Rural area. \n",
    "\n",
    "2.In th pie charts below, we could see that 77 of the drivres are from Urban area and 68% of the rides take places there. Check pie charts: In the pie charts-\"% of Total Fares By City_Types\" and \"% of Total Rides by the City-Type\"\n",
    "That means the people in Urban area are using more Pyber. Where as the people in the rural area hardly use it.\n",
    "\n",
    "3 As a result of this, around 63% of the total fare is coming from Urban area, and least is from rural.\n",
    "\n",
    "4.From the last pie chart \"% of Average Fare by the city-type\", we noticed that even though the number of rides and drivers are more in urban, ares, the average fare in Suburban and Rural area is higher than the Urban.\n",
    "\n",
    "Prediction:\n",
    "There is much scope for Pyber to increase their business in Suburban and rural area.\n",
    "If they hire people to work in the area and expand their business, it will help to boost the economy of those rural or subrban cities which eventully will make Pyber mre profitablwe"
   ]
  },
  {
   "cell_type": "code",
   "execution_count": 2,
   "metadata": {
    "collapsed": true
   },
   "outputs": [],
   "source": [
    "# In this problem the objective is:\n",
    "\n",
    "# to build a Bubble Plot that showcases the relationship between four key variables:\n",
    "#  .Average Fare ($) Per City\n",
    "#  .Total Number of Rides Per City\n",
    "#  .Total Number of Drivers Per City\n",
    "# and \n",
    "# to produce the pie plots to show \n",
    "# 1.% of Total Fares by City Type\n",
    "# 2.% of Total Rides by City Type\n",
    "# 3.% of Total Drivers by City Type\n"
   ]
  },
  {
   "cell_type": "code",
   "execution_count": 2,
   "metadata": {
    "collapsed": true
   },
   "outputs": [],
   "source": [
    "# Dependancies\n",
    "import numpy as np\n",
    "import matplotlib.pyplot as plt\n",
    "import pandas as pd\n",
    "import seaborn as sns"
   ]
  },
  {
   "cell_type": "code",
   "execution_count": 3,
   "metadata": {
    "collapsed": true
   },
   "outputs": [],
   "source": [
    "# Path to csv\n",
    "ride_csv = \"./ride_data.csv\"\n",
    "city_csv = \"./city_data.csv\""
   ]
  },
  {
   "cell_type": "code",
   "execution_count": 4,
   "metadata": {
    "collapsed": true
   },
   "outputs": [],
   "source": [
    "# Reading csvs\n",
    "city_df = pd.read_csv(city_csv)\n",
    "ride_df = pd.read_csv(ride_csv)"
   ]
  },
  {
   "cell_type": "code",
   "execution_count": 5,
   "metadata": {
    "collapsed": true
   },
   "outputs": [],
   "source": [
    "# dropping duplicated cities\n",
    "city_df = city_df.drop_duplicates('city')"
   ]
  },
  {
   "cell_type": "code",
   "execution_count": 6,
   "metadata": {},
   "outputs": [
    {
     "data": {
      "text/html": [
       "<div>\n",
       "<style>\n",
       "    .dataframe thead tr:only-child th {\n",
       "        text-align: right;\n",
       "    }\n",
       "\n",
       "    .dataframe thead th {\n",
       "        text-align: left;\n",
       "    }\n",
       "\n",
       "    .dataframe tbody tr th {\n",
       "        vertical-align: top;\n",
       "    }\n",
       "</style>\n",
       "<table border=\"1\" class=\"dataframe\">\n",
       "  <thead>\n",
       "    <tr style=\"text-align: right;\">\n",
       "      <th></th>\n",
       "      <th>city</th>\n",
       "      <th>driver_count</th>\n",
       "      <th>type</th>\n",
       "    </tr>\n",
       "  </thead>\n",
       "  <tbody>\n",
       "    <tr>\n",
       "      <th>0</th>\n",
       "      <td>Kelseyland</td>\n",
       "      <td>63</td>\n",
       "      <td>Urban</td>\n",
       "    </tr>\n",
       "    <tr>\n",
       "      <th>1</th>\n",
       "      <td>Nguyenbury</td>\n",
       "      <td>8</td>\n",
       "      <td>Urban</td>\n",
       "    </tr>\n",
       "    <tr>\n",
       "      <th>2</th>\n",
       "      <td>East Douglas</td>\n",
       "      <td>12</td>\n",
       "      <td>Urban</td>\n",
       "    </tr>\n",
       "    <tr>\n",
       "      <th>3</th>\n",
       "      <td>West Dawnfurt</td>\n",
       "      <td>34</td>\n",
       "      <td>Urban</td>\n",
       "    </tr>\n",
       "    <tr>\n",
       "      <th>4</th>\n",
       "      <td>Rodriguezburgh</td>\n",
       "      <td>52</td>\n",
       "      <td>Urban</td>\n",
       "    </tr>\n",
       "  </tbody>\n",
       "</table>\n",
       "</div>"
      ],
      "text/plain": [
       "             city  driver_count   type\n",
       "0      Kelseyland            63  Urban\n",
       "1      Nguyenbury             8  Urban\n",
       "2    East Douglas            12  Urban\n",
       "3   West Dawnfurt            34  Urban\n",
       "4  Rodriguezburgh            52  Urban"
      ]
     },
     "execution_count": 6,
     "metadata": {},
     "output_type": "execute_result"
    }
   ],
   "source": [
    "city_df.head()"
   ]
  },
  {
   "cell_type": "code",
   "execution_count": 7,
   "metadata": {
    "scrolled": true
   },
   "outputs": [
    {
     "data": {
      "text/html": [
       "<div>\n",
       "<style>\n",
       "    .dataframe thead tr:only-child th {\n",
       "        text-align: right;\n",
       "    }\n",
       "\n",
       "    .dataframe thead th {\n",
       "        text-align: left;\n",
       "    }\n",
       "\n",
       "    .dataframe tbody tr th {\n",
       "        vertical-align: top;\n",
       "    }\n",
       "</style>\n",
       "<table border=\"1\" class=\"dataframe\">\n",
       "  <thead>\n",
       "    <tr style=\"text-align: right;\">\n",
       "      <th></th>\n",
       "      <th>city</th>\n",
       "      <th>date</th>\n",
       "      <th>fare</th>\n",
       "      <th>ride_id</th>\n",
       "    </tr>\n",
       "  </thead>\n",
       "  <tbody>\n",
       "    <tr>\n",
       "      <th>0</th>\n",
       "      <td>Sarabury</td>\n",
       "      <td>1/16/2016 13:49</td>\n",
       "      <td>38.35</td>\n",
       "      <td>5.400000e+12</td>\n",
       "    </tr>\n",
       "    <tr>\n",
       "      <th>1</th>\n",
       "      <td>South Roy</td>\n",
       "      <td>1/02/2016 18:42</td>\n",
       "      <td>17.49</td>\n",
       "      <td>4.040000e+12</td>\n",
       "    </tr>\n",
       "    <tr>\n",
       "      <th>2</th>\n",
       "      <td>Wiseborough</td>\n",
       "      <td>1/21/2016 17:35</td>\n",
       "      <td>44.18</td>\n",
       "      <td>3.650000e+12</td>\n",
       "    </tr>\n",
       "    <tr>\n",
       "      <th>3</th>\n",
       "      <td>Spencertown</td>\n",
       "      <td>7/31/2016 14:53</td>\n",
       "      <td>6.87</td>\n",
       "      <td>2.240000e+12</td>\n",
       "    </tr>\n",
       "    <tr>\n",
       "      <th>4</th>\n",
       "      <td>Nguyenbury</td>\n",
       "      <td>7/09/2016 4:42</td>\n",
       "      <td>6.28</td>\n",
       "      <td>1.540000e+12</td>\n",
       "    </tr>\n",
       "  </tbody>\n",
       "</table>\n",
       "</div>"
      ],
      "text/plain": [
       "          city             date   fare       ride_id\n",
       "0     Sarabury  1/16/2016 13:49  38.35  5.400000e+12\n",
       "1    South Roy  1/02/2016 18:42  17.49  4.040000e+12\n",
       "2  Wiseborough  1/21/2016 17:35  44.18  3.650000e+12\n",
       "3  Spencertown  7/31/2016 14:53   6.87  2.240000e+12\n",
       "4   Nguyenbury   7/09/2016 4:42   6.28  1.540000e+12"
      ]
     },
     "execution_count": 7,
     "metadata": {},
     "output_type": "execute_result"
    }
   ],
   "source": [
    "ride_df.head()"
   ]
  },
  {
   "cell_type": "code",
   "execution_count": 8,
   "metadata": {},
   "outputs": [
    {
     "data": {
      "text/html": [
       "<div>\n",
       "<style>\n",
       "    .dataframe thead tr:only-child th {\n",
       "        text-align: right;\n",
       "    }\n",
       "\n",
       "    .dataframe thead th {\n",
       "        text-align: left;\n",
       "    }\n",
       "\n",
       "    .dataframe tbody tr th {\n",
       "        vertical-align: top;\n",
       "    }\n",
       "</style>\n",
       "<table border=\"1\" class=\"dataframe\">\n",
       "  <thead>\n",
       "    <tr style=\"text-align: right;\">\n",
       "      <th></th>\n",
       "      <th>city</th>\n",
       "      <th>date</th>\n",
       "      <th>fare</th>\n",
       "      <th>ride_id</th>\n",
       "      <th>driver_count</th>\n",
       "      <th>type</th>\n",
       "    </tr>\n",
       "  </thead>\n",
       "  <tbody>\n",
       "    <tr>\n",
       "      <th>0</th>\n",
       "      <td>Kelseyland</td>\n",
       "      <td>8/19/2016 4:27</td>\n",
       "      <td>5.51</td>\n",
       "      <td>6.250000e+12</td>\n",
       "      <td>63</td>\n",
       "      <td>Urban</td>\n",
       "    </tr>\n",
       "    <tr>\n",
       "      <th>1</th>\n",
       "      <td>Kelseyland</td>\n",
       "      <td>4/17/2016 6:59</td>\n",
       "      <td>5.54</td>\n",
       "      <td>7.470000e+12</td>\n",
       "      <td>63</td>\n",
       "      <td>Urban</td>\n",
       "    </tr>\n",
       "    <tr>\n",
       "      <th>2</th>\n",
       "      <td>Kelseyland</td>\n",
       "      <td>5/04/2016 15:06</td>\n",
       "      <td>30.54</td>\n",
       "      <td>2.140000e+12</td>\n",
       "      <td>63</td>\n",
       "      <td>Urban</td>\n",
       "    </tr>\n",
       "    <tr>\n",
       "      <th>3</th>\n",
       "      <td>Kelseyland</td>\n",
       "      <td>1/25/2016 20:44</td>\n",
       "      <td>12.08</td>\n",
       "      <td>1.900000e+12</td>\n",
       "      <td>63</td>\n",
       "      <td>Urban</td>\n",
       "    </tr>\n",
       "    <tr>\n",
       "      <th>4</th>\n",
       "      <td>Kelseyland</td>\n",
       "      <td>8/09/2016 18:19</td>\n",
       "      <td>17.91</td>\n",
       "      <td>8.780000e+12</td>\n",
       "      <td>63</td>\n",
       "      <td>Urban</td>\n",
       "    </tr>\n",
       "  </tbody>\n",
       "</table>\n",
       "</div>"
      ],
      "text/plain": [
       "         city             date   fare       ride_id  driver_count   type\n",
       "0  Kelseyland   8/19/2016 4:27   5.51  6.250000e+12            63  Urban\n",
       "1  Kelseyland   4/17/2016 6:59   5.54  7.470000e+12            63  Urban\n",
       "2  Kelseyland  5/04/2016 15:06  30.54  2.140000e+12            63  Urban\n",
       "3  Kelseyland  1/25/2016 20:44  12.08  1.900000e+12            63  Urban\n",
       "4  Kelseyland  8/09/2016 18:19  17.91  8.780000e+12            63  Urban"
      ]
     },
     "execution_count": 8,
     "metadata": {},
     "output_type": "execute_result"
    }
   ],
   "source": [
    "#merging two dataFrames on 'city'\n",
    "merged_df = city_df.merge(ride_df, on = 'city')\n",
    "merged_df = merged_df[[\"city\",\"date\",\"fare\",\"ride_id\",\"driver_count\",\"type\"]] # <---this is to get the desire order of columns\n",
    "merged_df.head()"
   ]
  },
  {
   "cell_type": "code",
   "execution_count": 9,
   "metadata": {},
   "outputs": [
    {
     "data": {
      "text/plain": [
       "city          type      driver_count\n",
       "Alvarezhaven  Urban     21              23.928710\n",
       "Alyssaberg    Urban     67              20.609615\n",
       "Anitamouth    Suburban  16              37.315556\n",
       "Antoniomouth  Urban     21              23.625000\n",
       "Aprilchester  Urban     49              21.981579\n",
       "Name: fare, dtype: float64"
      ]
     },
     "execution_count": 9,
     "metadata": {},
     "output_type": "execute_result"
    }
   ],
   "source": [
    "# Average Fare ($) Per City\n",
    "# data.groupby(['col1', 'col2'])['col3'].mean()\n",
    "avg_fare = merged_df.groupby(['city', 'type', 'driver_count']).fare.mean()\n",
    "avg_fare.head()"
   ]
  },
  {
   "cell_type": "code",
   "execution_count": 11,
   "metadata": {
    "collapsed": true,
    "scrolled": true
   },
   "outputs": [],
   "source": [
    "# Total Number of Rides Per City\n",
    "ridesPerCity = merged_df.groupby(['city', 'type', 'driver_count']).ride_id.count()\n"
   ]
  },
  {
   "cell_type": "code",
   "execution_count": 12,
   "metadata": {
    "scrolled": true
   },
   "outputs": [
    {
     "data": {
      "text/html": [
       "<div>\n",
       "<style>\n",
       "    .dataframe thead tr:only-child th {\n",
       "        text-align: right;\n",
       "    }\n",
       "\n",
       "    .dataframe thead th {\n",
       "        text-align: left;\n",
       "    }\n",
       "\n",
       "    .dataframe tbody tr th {\n",
       "        vertical-align: top;\n",
       "    }\n",
       "</style>\n",
       "<table border=\"1\" class=\"dataframe\">\n",
       "  <thead>\n",
       "    <tr style=\"text-align: right;\">\n",
       "      <th></th>\n",
       "      <th>city</th>\n",
       "      <th>type</th>\n",
       "      <th>driver_count</th>\n",
       "      <th>Average Fare</th>\n",
       "      <th>Number of Rides</th>\n",
       "    </tr>\n",
       "  </thead>\n",
       "  <tbody>\n",
       "    <tr>\n",
       "      <th>0</th>\n",
       "      <td>Alvarezhaven</td>\n",
       "      <td>Urban</td>\n",
       "      <td>21</td>\n",
       "      <td>23.928710</td>\n",
       "      <td>31</td>\n",
       "    </tr>\n",
       "    <tr>\n",
       "      <th>1</th>\n",
       "      <td>Alyssaberg</td>\n",
       "      <td>Urban</td>\n",
       "      <td>67</td>\n",
       "      <td>20.609615</td>\n",
       "      <td>26</td>\n",
       "    </tr>\n",
       "    <tr>\n",
       "      <th>2</th>\n",
       "      <td>Anitamouth</td>\n",
       "      <td>Suburban</td>\n",
       "      <td>16</td>\n",
       "      <td>37.315556</td>\n",
       "      <td>9</td>\n",
       "    </tr>\n",
       "    <tr>\n",
       "      <th>3</th>\n",
       "      <td>Antoniomouth</td>\n",
       "      <td>Urban</td>\n",
       "      <td>21</td>\n",
       "      <td>23.625000</td>\n",
       "      <td>22</td>\n",
       "    </tr>\n",
       "    <tr>\n",
       "      <th>4</th>\n",
       "      <td>Aprilchester</td>\n",
       "      <td>Urban</td>\n",
       "      <td>49</td>\n",
       "      <td>21.981579</td>\n",
       "      <td>19</td>\n",
       "    </tr>\n",
       "  </tbody>\n",
       "</table>\n",
       "</div>"
      ],
      "text/plain": [
       "           city      type  driver_count  Average Fare  Number of Rides\n",
       "0  Alvarezhaven     Urban            21     23.928710               31\n",
       "1    Alyssaberg     Urban            67     20.609615               26\n",
       "2    Anitamouth  Suburban            16     37.315556                9\n",
       "3  Antoniomouth     Urban            21     23.625000               22\n",
       "4  Aprilchester     Urban            49     21.981579               19"
      ]
     },
     "execution_count": 12,
     "metadata": {},
     "output_type": "execute_result"
    }
   ],
   "source": [
    "city_rides_df = pd.DataFrame({\n",
    "    \"Average Fare\": avg_fare,\n",
    "    \"Number of Rides\": ridesPerCity\n",
    "})\n",
    "# df.reset_index(level=['tick', 'obs'])\n",
    "city_rides_df.reset_index(level = ['city', 'type', 'driver_count'], inplace = True)\n",
    "city_rides_df.head()"
   ]
  },
  {
   "cell_type": "code",
   "execution_count": 13,
   "metadata": {
    "collapsed": true
   },
   "outputs": [],
   "source": [
    "# Creating seperate DataFrames for \"type\" : Urban, Subarba and Rural using city_rides.df\n",
    "\n",
    "urban_df = city_rides_df[(city_rides_df.type == 'Urban')]\n",
    "suburban_df = city_rides_df[(city_rides_df.type == 'Suburban')]\n",
    "rural_df = city_rides_df[(city_rides_df.type == 'Rural')]\n",
    "#urban_df.head()"
   ]
  },
  {
   "cell_type": "code",
   "execution_count": 25,
   "metadata": {},
   "outputs": [
    {
     "data": {
      "text/html": [
       "<div>\n",
       "<style>\n",
       "    .dataframe thead tr:only-child th {\n",
       "        text-align: right;\n",
       "    }\n",
       "\n",
       "    .dataframe thead th {\n",
       "        text-align: left;\n",
       "    }\n",
       "\n",
       "    .dataframe tbody tr th {\n",
       "        vertical-align: top;\n",
       "    }\n",
       "</style>\n",
       "<table border=\"1\" class=\"dataframe\">\n",
       "  <thead>\n",
       "    <tr style=\"text-align: right;\">\n",
       "      <th></th>\n",
       "      <th>city</th>\n",
       "      <th>type</th>\n",
       "      <th>driver_count</th>\n",
       "      <th>Average Fare</th>\n",
       "      <th>Number of Rides</th>\n",
       "    </tr>\n",
       "  </thead>\n",
       "  <tbody>\n",
       "    <tr>\n",
       "      <th>2</th>\n",
       "      <td>Anitamouth</td>\n",
       "      <td>Suburban</td>\n",
       "      <td>16</td>\n",
       "      <td>37.315556</td>\n",
       "      <td>9</td>\n",
       "    </tr>\n",
       "    <tr>\n",
       "      <th>6</th>\n",
       "      <td>Campbellport</td>\n",
       "      <td>Suburban</td>\n",
       "      <td>26</td>\n",
       "      <td>33.711333</td>\n",
       "      <td>15</td>\n",
       "    </tr>\n",
       "    <tr>\n",
       "      <th>7</th>\n",
       "      <td>Carrollbury</td>\n",
       "      <td>Suburban</td>\n",
       "      <td>4</td>\n",
       "      <td>36.606000</td>\n",
       "      <td>10</td>\n",
       "    </tr>\n",
       "    <tr>\n",
       "      <th>9</th>\n",
       "      <td>Clarkstad</td>\n",
       "      <td>Suburban</td>\n",
       "      <td>21</td>\n",
       "      <td>31.051667</td>\n",
       "      <td>12</td>\n",
       "    </tr>\n",
       "    <tr>\n",
       "      <th>10</th>\n",
       "      <td>Conwaymouth</td>\n",
       "      <td>Suburban</td>\n",
       "      <td>18</td>\n",
       "      <td>34.591818</td>\n",
       "      <td>11</td>\n",
       "    </tr>\n",
       "  </tbody>\n",
       "</table>\n",
       "</div>"
      ],
      "text/plain": [
       "            city      type  driver_count  Average Fare  Number of Rides\n",
       "2     Anitamouth  Suburban            16     37.315556                9\n",
       "6   Campbellport  Suburban            26     33.711333               15\n",
       "7    Carrollbury  Suburban             4     36.606000               10\n",
       "9      Clarkstad  Suburban            21     31.051667               12\n",
       "10   Conwaymouth  Suburban            18     34.591818               11"
      ]
     },
     "execution_count": 25,
     "metadata": {},
     "output_type": "execute_result"
    }
   ],
   "source": [
    "suburban_df.head()"
   ]
  },
  {
   "cell_type": "code",
   "execution_count": 15,
   "metadata": {
    "collapsed": true
   },
   "outputs": [],
   "source": [
    "#rural_df.head()"
   ]
  },
  {
   "cell_type": "code",
   "execution_count": 16,
   "metadata": {
    "collapsed": true
   },
   "outputs": [],
   "source": [
    "ur_avg = urban_df['Average Fare'].mean()\n",
    "rur_avg = rural_df[\"Average Fare\"].mean()\n",
    "suburb_avg = suburban_df[\"Average Fare\"].mean()"
   ]
  },
  {
   "cell_type": "code",
   "execution_count": 17,
   "metadata": {
    "collapsed": true
   },
   "outputs": [],
   "source": [
    "#color scheme dictionary and preview\n",
    "color_scheme = {'Gold':'#FFD700', 'Light Sky Blue':'#87CEFA', 'Light Coral':'#F08080'}\n",
    "plt.suptitle('Pyber Ride Sharing Data')\n",
    "city_color = {'Urban': color_scheme['Gold'], 'Suburban': color_scheme['Light Sky Blue'], 'Rural': color_scheme['Light Coral']}"
   ]
  },
  {
   "cell_type": "markdown",
   "metadata": {},
   "source": [
    "### Bubble plot that showcases the relationship between four key variables: ###"
   ]
  },
  {
   "cell_type": "code",
   "execution_count": 24,
   "metadata": {},
   "outputs": [
    {
     "data": {
      "image/png": "[encoded data removed]",
      "text/plain": [
       "<matplotlib.figure.Figure at 0x108e5dda0>"
      ]
     },
     "metadata": {},
     "output_type": "display_data"
    }
   ],
   "source": [
    "# Scatter plots of Number of rides Vs Avg Fare per city for type: Urban,Suburban,rural\n",
    "# Size of the bubble corrroponds to the number of drivers.\n",
    "\n",
    "plt.scatter(rural_df['Number of Rides'], rural_df['Average Fare'], s = rural_df['driver_count']*10, color = city_color['Rural'], edgecolor = 'black', label = 'Rural', alpha = .75)\n",
    "plt.scatter(suburban_df['Number of Rides'], suburban_df['Average Fare'], s = suburban_df['driver_count']*10, color = city_color['Suburban'], edgecolor = 'black', label = 'Suburban', alpha = .75)\n",
    "plt.scatter(urban_df['Number of Rides'], urban_df['Average Fare'], s = urban_df['driver_count']*10, color = city_color['Urban'], edgecolor = 'black', label = 'Urban', alpha = .75)\n",
    "\n",
    "plt.title('Note : Size of Bubble Corresponds to Number of Drivers per City')\n",
    "plt.xlabel('Number of Rides per City')\n",
    "plt.ylabel('Average Fare per City')\n",
    "#plt.legend(handles = [\"Rural\",\"Suburban\",\"Urban\"])\n",
    "lgnd = plt.legend(frameon = True, edgecolor = 'black')\n",
    "lgnd.legendHandles[0]._sizes = [75]\n",
    "lgnd.legendHandles[1]._sizes = [75]\n",
    "lgnd.legendHandles[2]._sizes = [75]\n",
    "\n",
    "plt.show()"
   ]
  },
  {
   "cell_type": "markdown",
   "metadata": {},
   "source": [
    "### % of Total Fares by City Type ###"
   ]
  },
  {
   "cell_type": "code",
   "execution_count": 188,
   "metadata": {
    "scrolled": true
   },
   "outputs": [
    {
     "data": {
      "image/png": "[encoded data removed]",
      "text/plain": [
       "<matplotlib.figure.Figure at 0x1a187a8eb8>"
      ]
     },
     "metadata": {},
     "output_type": "display_data"
    }
   ],
   "source": [
    "# Pie plots for: % of Total Fares by city-type\n",
    "\n",
    "# Calculate Total Fare by city-type\n",
    "total_fare = merged_df.groupby(['type']).fare.sum()\n",
    "\n",
    "# Labels for the sections of our pie chart\n",
    "labels = [\"Rural\",\"Suburban\",\"Urban\" ]\n",
    "# The colors of each section of the pie chart\n",
    "colors = [\"lightcoral\",\"lightskyblue\",\"Gold\"]\n",
    "explode = (0,0,0.1)\n",
    "plt.title(\"% of Total Fares By City_Types\")\n",
    "plt.pie(total_fare,explode=explode, labels=labels, colors=colors, autopct=\"%1.1f%%\",shadow=True, startangle=120,wedgeprops={'linewidth':0.7,'edgecolor':'black'})\n",
    "plt.axis(\"equal\")\n",
    "plt.savefig \n",
    "plt.show()"
   ]
  },
  {
   "cell_type": "code",
   "execution_count": 189,
   "metadata": {},
   "outputs": [
    {
     "data": {
      "text/html": [
       "<div>\n",
       "<style>\n",
       "    .dataframe thead tr:only-child th {\n",
       "        text-align: right;\n",
       "    }\n",
       "\n",
       "    .dataframe thead th {\n",
       "        text-align: left;\n",
       "    }\n",
       "\n",
       "    .dataframe tbody tr th {\n",
       "        vertical-align: top;\n",
       "    }\n",
       "</style>\n",
       "<table border=\"1\" class=\"dataframe\">\n",
       "  <thead>\n",
       "    <tr style=\"text-align: right;\">\n",
       "      <th></th>\n",
       "      <th>city</th>\n",
       "      <th>date</th>\n",
       "      <th>fare</th>\n",
       "      <th>ride_id</th>\n",
       "      <th>driver_count</th>\n",
       "      <th>type</th>\n",
       "    </tr>\n",
       "  </thead>\n",
       "  <tbody>\n",
       "    <tr>\n",
       "      <th>0</th>\n",
       "      <td>Kelseyland</td>\n",
       "      <td>8/19/2016 4:27</td>\n",
       "      <td>5.51</td>\n",
       "      <td>6.250000e+12</td>\n",
       "      <td>63</td>\n",
       "      <td>Urban</td>\n",
       "    </tr>\n",
       "    <tr>\n",
       "      <th>1</th>\n",
       "      <td>Kelseyland</td>\n",
       "      <td>4/17/2016 6:59</td>\n",
       "      <td>5.54</td>\n",
       "      <td>7.470000e+12</td>\n",
       "      <td>63</td>\n",
       "      <td>Urban</td>\n",
       "    </tr>\n",
       "    <tr>\n",
       "      <th>2</th>\n",
       "      <td>Kelseyland</td>\n",
       "      <td>5/04/2016 15:06</td>\n",
       "      <td>30.54</td>\n",
       "      <td>2.140000e+12</td>\n",
       "      <td>63</td>\n",
       "      <td>Urban</td>\n",
       "    </tr>\n",
       "    <tr>\n",
       "      <th>3</th>\n",
       "      <td>Kelseyland</td>\n",
       "      <td>1/25/2016 20:44</td>\n",
       "      <td>12.08</td>\n",
       "      <td>1.900000e+12</td>\n",
       "      <td>63</td>\n",
       "      <td>Urban</td>\n",
       "    </tr>\n",
       "    <tr>\n",
       "      <th>4</th>\n",
       "      <td>Kelseyland</td>\n",
       "      <td>8/09/2016 18:19</td>\n",
       "      <td>17.91</td>\n",
       "      <td>8.780000e+12</td>\n",
       "      <td>63</td>\n",
       "      <td>Urban</td>\n",
       "    </tr>\n",
       "  </tbody>\n",
       "</table>\n",
       "</div>"
      ],
      "text/plain": [
       "         city             date   fare       ride_id  driver_count   type\n",
       "0  Kelseyland   8/19/2016 4:27   5.51  6.250000e+12            63  Urban\n",
       "1  Kelseyland   4/17/2016 6:59   5.54  7.470000e+12            63  Urban\n",
       "2  Kelseyland  5/04/2016 15:06  30.54  2.140000e+12            63  Urban\n",
       "3  Kelseyland  1/25/2016 20:44  12.08  1.900000e+12            63  Urban\n",
       "4  Kelseyland  8/09/2016 18:19  17.91  8.780000e+12            63  Urban"
      ]
     },
     "execution_count": 189,
     "metadata": {},
     "output_type": "execute_result"
    }
   ],
   "source": [
    "merged_df.groupby(['type']).fare.mean()\n",
    "merged_df.head()"
   ]
  },
  {
   "cell_type": "markdown",
   "metadata": {},
   "source": [
    "### % of Total Rides by City Type ###"
   ]
  },
  {
   "cell_type": "code",
   "execution_count": 190,
   "metadata": {},
   "outputs": [
    {
     "data": {
      "image/png": "[encoded data removed]",
      "text/plain": [
       "<matplotlib.figure.Figure at 0x1a17c65d30>"
      ]
     },
     "metadata": {},
     "output_type": "display_data"
    }
   ],
   "source": [
    "# Pie Chart for: % of Total Rides by the city-cype\n",
    "\n",
    "# Calculate the total Number Of Rides by the city-type\n",
    "total_rides_by_type = merged_df.groupby(['type']).ride_id.count()\n",
    "\n",
    "labels = [\"Rural\",\"Suburban\",\"Urban\"]\n",
    "colors = [\"lightcoral\",\"lightskyblue\",\"Gold\"]\n",
    "explode =(0,0,0.15)\n",
    "plt.title(\"% of Total Rides by the City-Type\")\n",
    "plt.pie(total_rides_by_type,labels=labels, explode=explode, colors=colors,autopct=\"%.2f%%\", shadow=True, startangle=-80,wedgeprops={'linewidth':0.5,'edgecolor':'black'})\n",
    "plt.axis('equal')\n",
    "plt.savefig\n",
    "plt.show()\n",
    "\n"
   ]
  },
  {
   "cell_type": "markdown",
   "metadata": {},
   "source": [
    "\n",
    "\n",
    "### % of Total Drivers by City Type ####"
   ]
  },
  {
   "cell_type": "code",
   "execution_count": 191,
   "metadata": {},
   "outputs": [
    {
     "data": {
      "image/png": "[encoded data removed]",
      "text/plain": [
       "<matplotlib.figure.Figure at 0x1a1836a908>"
      ]
     },
     "metadata": {},
     "output_type": "display_data"
    }
   ],
   "source": [
    "# Pie chart for: % of Total Drivers by the city-type\n",
    "\n",
    "total_drivers = city_df.groupby(['type']).driver_count.sum()\n",
    "\n",
    "plt.pie(total_drivers, labels=[\"Rural\",\"Suburban\",\"Urban\"], \n",
    "                                        colors = [\"lightcoral\",\"lightskyblue\",\"Gold\"],\n",
    "                                        explode =(0,0,0.3),\n",
    "                                        autopct = \"%1.1f%%\",\n",
    "                                        shadow = True, startangle= -20,\n",
    "                                        wedgeprops={'linewidth':0.8,'edgecolor':'black'}\n",
    "    \n",
    "                                        )\n",
    "plt.title( \"% of Total Drivers by the city-type\")\n",
    "\n",
    "plt.axis('equal')\n",
    "plt.savefig\n",
    "plt.show()\n"
   ]
  },
  {
   "cell_type": "markdown",
   "metadata": {},
   "source": [
    "### # % of Average fare by the city_type ###"
   ]
  },
  {
   "cell_type": "code",
   "execution_count": 247,
   "metadata": {},
   "outputs": [
    {
     "data": {
      "text/html": [
       "<div>\n",
       "<style>\n",
       "    .dataframe thead tr:only-child th {\n",
       "        text-align: right;\n",
       "    }\n",
       "\n",
       "    .dataframe thead th {\n",
       "        text-align: left;\n",
       "    }\n",
       "\n",
       "    .dataframe tbody tr th {\n",
       "        vertical-align: top;\n",
       "    }\n",
       "</style>\n",
       "<table border=\"1\" class=\"dataframe\">\n",
       "  <thead>\n",
       "    <tr style=\"text-align: right;\">\n",
       "      <th></th>\n",
       "      <th>Average Fare</th>\n",
       "    </tr>\n",
       "    <tr>\n",
       "      <th>type</th>\n",
       "      <th></th>\n",
       "    </tr>\n",
       "  </thead>\n",
       "  <tbody>\n",
       "    <tr>\n",
       "      <th>Rural</th>\n",
       "      <td>34.207143</td>\n",
       "    </tr>\n",
       "    <tr>\n",
       "      <th>Suburban</th>\n",
       "      <td>30.942131</td>\n",
       "    </tr>\n",
       "    <tr>\n",
       "      <th>Urban</th>\n",
       "      <td>24.603991</td>\n",
       "    </tr>\n",
       "  </tbody>\n",
       "</table>\n",
       "</div>"
      ],
      "text/plain": [
       "          Average Fare\n",
       "type                  \n",
       "Rural        34.207143\n",
       "Suburban     30.942131\n",
       "Urban        24.603991"
      ]
     },
     "execution_count": 247,
     "metadata": {},
     "output_type": "execute_result"
    }
   ],
   "source": [
    "# % of Average fare by the city_type\n",
    "\n",
    "# Calculate Average Fare by city-type\n",
    "#urb_avg = urban_df[\"Average Fare\"].mean()\n",
    "#suburb_avg = suburban_df[\"Average Fare\"].mean()\n",
    "#rur_avg = rural_df[\"Average Fare\"].mean()\n",
    "# Insteade of doing above three steps to find the avgs for urb,subrb and rural, you can do it in one step as follows\n",
    "\n",
    "avg_fare_df = city_rides_df.groupby(['type'])['Average Fare'].mean()\n",
    "\n",
    "plt.pie(avg_fare_df, labels=[\"Rural\",\"Suburban\",\"Urban\"], \n",
    "                                        colors = [\"lightcoral\",\"lightskyblue\",\"Gold\"],\n",
    "                                        explode =(0,0,0.15),\n",
    "                                        autopct = \"%1.1f%%\",\n",
    "                                        shadow = True, startangle= -20,\n",
    "                                        wedgeprops={'linewidth':0.8,'edgecolor':'black'}\n",
    "    \n",
    "                                        )\n",
    "plt.title( \"% of Average Fare by the city-type\")\n",
    "plt.axis('equal')\n",
    "\n",
    "avg_fare_df= pd.DataFrame(avg_fare_df)\n",
    "avg_fare_df  \n"
   ]
  },
  {
   "cell_type": "code",
   "execution_count": 248,
   "metadata": {},
   "outputs": [
    {
     "data": {
      "image/png": "[encoded data removed]",
      "text/plain": [
       "<matplotlib.figure.Figure at 0x1a18bd27b8>"
      ]
     },
     "metadata": {},
     "output_type": "display_data"
    }
   ],
   "source": [
    "plt.savefig\n",
    "plt.show()"
   ]
  },
  {
   "cell_type": "code",
   "execution_count": null,
   "metadata": {
    "collapsed": true
   },
   "outputs": [],
   "source": []
  }
 ],
 "metadata": {
  "kernelspec": {
   "display_name": "Python 3",
   "language": "python",
   "name": "python3"
  },
  "language_info": {
   "codemirror_mode": {
    "name": "ipython",
    "version": 3
   },
   "file_extension": ".py",
   "mimetype": "text/x-python",
   "name": "python",
   "nbconvert_exporter": "python",
   "pygments_lexer": "ipython3",
   "version": "3.6.2"
  }
 },
 "nbformat": 4,
 "nbformat_minor": 2
}
