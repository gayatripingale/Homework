{
 "cells": [
  {
   "cell_type": "code",
   "execution_count": 12,
   "metadata": {},
   "outputs": [
    {
     "name": "stdout",
     "output_type": "stream",
     "text": [
      "The current weather summary for Paris is: ('Paris', -1.86)\n"
     ]
    }
   ],
   "source": [
    "\n",
    "#Dependencis\n",
    "\n",
    "import openweathermapy.core as ow\n",
    "\n",
    "#creat settings dictionary we are einterested in\n",
    "\n",
    "api_key = \"25bc90a1196e6f153eece0bc0b0fc9eb\"\n",
    "settings = {\"units\":\"metric\",\"appid\":api_key}\n",
    "\n",
    "# Openweathermapy makes it easy to parse the reponse\n",
    "\n",
    "current_weather_in_paris = ow.get_current(\"Paris\", **settings)\n",
    "summary = [\"name\",\"main.temp\"]\n",
    "data = current_weather_in_paris(*summary)\n",
    "print(\"The current weather summary for Paris is: \" + str(data))\n",
    "\n"
   ]
  },
  {
   "cell_type": "code",
   "execution_count": null,
   "metadata": {
    "collapsed": true
   },
   "outputs": [],
   "source": []
  },
  {
   "cell_type": "code",
   "execution_count": null,
   "metadata": {
    "collapsed": true
   },
   "outputs": [],
   "source": []
  }
 ],
 "metadata": {
  "kernelspec": {
   "display_name": "Python 3",
   "language": "python",
   "name": "python3"
  },
  "language_info": {
   "codemirror_mode": {
    "name": "ipython",
    "version": 3
   },
   "file_extension": ".py",
   "mimetype": "text/x-python",
   "name": "python",
   "nbconvert_exporter": "python",
   "pygments_lexer": "ipython3",
   "version": "3.6.2"
  }
 },
 "nbformat": 4,
 "nbformat_minor": 2
}
