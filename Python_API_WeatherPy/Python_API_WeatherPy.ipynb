{
 "cells": [
  {
   "cell_type": "code",
   "execution_count": 73,
   "metadata": {
    "collapsed": true
   },
   "outputs": [],
   "source": [
    "#In this example, you'll be creating a Python script to visualize the weather of 500+ cities across the world \n",
    "#of varying distance from the equator. To accomplish this, you'll be utilizing a simple Python library,\n",
    "#the OpenWeatherMap API, and a little common sense to create a representative model of weather across world cities.\n",
    "\n",
    "#Your objective is to build a series of scatter plots to showcase the following relationships:\n",
    "\n",
    "# Temperature (F) vs. Latitude\n",
    "# Humidity (%) vs. Latitude\n",
    "# Cloudiness (%) vs. Latitude\n",
    "# Wind Speed (mph) vs. Latitude\n",
    "\n",
    "#Note : Coording to AcrcMap( lonk is given in READ ME):\n",
    "#        1) (lat) Latitude_range = -90 to + 90\n",
    "#        2)  (lon) Longitude_range = -180 to +180\n",
    "\n",
    "#  Referance GP_cities.py to get lat, lon, cities combination data"
   ]
  },
  {
   "cell_type": "code",
   "execution_count": 74,
   "metadata": {
    "collapsed": true
   },
   "outputs": [],
   "source": [
    "#Dependancies\n",
    "import pandas as pd\n",
    "import matplotlib.pyplot as plt\n",
    "from citipy import citipy as cp"
   ]
  },
  {
   "cell_type": "code",
   "execution_count": 75,
   "metadata": {},
   "outputs": [
    {
     "name": "stdout",
     "output_type": "stream",
     "text": [
      "588\n"
     ]
    }
   ],
   "source": [
    "# We now find the combination of  ( lat,lon) by creating loop for lat in the range -90 to +90, and, lon in the range -180 to 180.\n",
    "# The we will find the city name corrosponding to that (lat,lon) using citipy module \n",
    "# There will be thousands of combunations of (lat,lon). So, we will give by skipping it by 5 in the range.\n",
    "citylist = []\n",
    "count = 0\n",
    "dup = 'no'\n",
    "\n",
    "for lat in range(-90, 90, 5):\n",
    "    for lon in range(-180, 180, 10):\n",
    "        cp_city = cp.nearest_city(lat,lon) # Capture nearest city from Citipi library\n",
    "        \n",
    "        # Use a dictionary to store info of the current city:\n",
    "        citydict = {} \n",
    "        citydict['City_Name'] = cp_city.city_name \n",
    "        citydict['Country']= cp_city.country_code\n",
    "        citydict['Latitude'] = lat\n",
    "        citydict['Longitude'] = lon\n",
    "        \n",
    "        # Add current city info to list: <citylist>:\n",
    "        if len(citylist) == 0:\n",
    "            citylist.append(citydict)\n",
    "            count += 1\n",
    "            continue\n",
    "        else:\n",
    "            #Get rid of duplicates:\n",
    "            for city_info in citylist:\n",
    "                if city_info['City_Name'] == citydict['City_Name']:\n",
    "                    dup = 'yes'\n",
    "        if dup == 'no':\n",
    "            citylist.append(citydict)\n",
    "            count += 1\n",
    "        else:\n",
    "            dup = 'no'\n",
    "\n",
    "print(len(citylist))"
   ]
  },
  {
   "cell_type": "code",
   "execution_count": 76,
   "metadata": {
    "collapsed": true
   },
   "outputs": [],
   "source": [
    "import json\n",
    "import requests as req"
   ]
  },
  {
   "cell_type": "code",
   "execution_count": 77,
   "metadata": {},
   "outputs": [
    {
     "data": {
      "text/html": [
       "<div>\n",
       "<style>\n",
       "    .dataframe thead tr:only-child th {\n",
       "        text-align: right;\n",
       "    }\n",
       "\n",
       "    .dataframe thead th {\n",
       "        text-align: left;\n",
       "    }\n",
       "\n",
       "    .dataframe tbody tr th {\n",
       "        vertical-align: top;\n",
       "    }\n",
       "</style>\n",
       "<table border=\"1\" class=\"dataframe\">\n",
       "  <thead>\n",
       "    <tr style=\"text-align: right;\">\n",
       "      <th></th>\n",
       "      <th>City</th>\n",
       "      <th>Country</th>\n",
       "    </tr>\n",
       "  </thead>\n",
       "  <tbody>\n",
       "    <tr>\n",
       "      <th>0</th>\n",
       "      <td>vaini</td>\n",
       "      <td>to</td>\n",
       "    </tr>\n",
       "    <tr>\n",
       "      <th>1</th>\n",
       "      <td>mataura</td>\n",
       "      <td>pf</td>\n",
       "    </tr>\n",
       "    <tr>\n",
       "      <th>2</th>\n",
       "      <td>rikitea</td>\n",
       "      <td>pf</td>\n",
       "    </tr>\n",
       "    <tr>\n",
       "      <th>3</th>\n",
       "      <td>punta arenas</td>\n",
       "      <td>cl</td>\n",
       "    </tr>\n",
       "    <tr>\n",
       "      <th>4</th>\n",
       "      <td>ushuaia</td>\n",
       "      <td>ar</td>\n",
       "    </tr>\n",
       "  </tbody>\n",
       "</table>\n",
       "</div>"
      ],
      "text/plain": [
       "           City Country\n",
       "0         vaini      to\n",
       "1       mataura      pf\n",
       "2       rikitea      pf\n",
       "3  punta arenas      cl\n",
       "4       ushuaia      ar"
      ]
     },
     "execution_count": 77,
     "metadata": {},
     "output_type": "execute_result"
    }
   ],
   "source": [
    "# create dataframe to \n",
    "citypd = pd.DataFrame({\n",
    "    \"City\": [x[\"City_Name\"] for x in citylist],\n",
    "    \"Country\": [x[\"Country\"] for x in citylist]\n",
    "})\n",
    "\n",
    "citypd.head()"
   ]
  },
  {
   "cell_type": "code",
   "execution_count": 87,
   "metadata": {},
   "outputs": [],
   "source": [
    "# import config.py file to read OpenWeatherMap API key, and hide it from the code:\n",
    "import config\n",
    "\n",
    "url = \"https://api.openweathermap.org/data/2.5/weather?\"\n",
    "units = \"Imperial\"\n",
    "base_url = url + \"appid=\" + config.weather_api_key + \"&units=\" + units + \"&q=\" "
   ]
  },
  {
   "cell_type": "code",
   "execution_count": 83,
   "metadata": {},
   "outputs": [
    {
     "name": "stdout",
     "output_type": "stream",
     "text": [
      "No data for this city: ('mataura', 'pf')\n",
      "No data for this city: ('taolanaro', 'mg')\n",
      "No data for this city: ('tsihombe', 'mg')\n",
      "No data for this city: ('laguna', 'br')\n",
      "No data for this city: ('umzimvubu', 'za')\n",
      "No data for this city: ('marcona', 'pe')\n",
      "No data for this city: ('toliary', 'mg')\n",
      "No data for this city: ('grand river south east', 'mu')\n",
      "No data for this city: ('bengkulu', 'id')\n",
      "No data for this city: ('halalo', 'wf')\n",
      "No data for this city: ('satitoa', 'ws')\n",
      "No data for this city: ('mocambique', 'mz')\n",
      "No data for this city: ('palabuhanratu', 'id')\n",
      "No data for this city: ('vaitupu', 'wf')\n",
      "No data for this city: ('samalaeulu', 'ws')\n",
      "No data for this city: ('miranorte', 'br')\n",
      "No data for this city: ('nguiu', 'au')\n",
      "No data for this city: ('alotau', 'pg')\n",
      "No data for this city: ('lata', 'sb')\n",
      "No data for this city: ('saleaula', 'ws')\n",
      "No data for this city: ('utiroa', 'ki')\n",
      "No data for this city: ('samusu', 'ws')\n",
      "No data for this city: ('tucuma', 'br')\n",
      "No data for this city: ('acarau', 'br')\n",
      "No data for this city: ('tabiauea', 'ki')\n",
      "No data for this city: ('cumaribo', 'co')\n",
      "No data for this city: ('saint-georges', 'gf')\n",
      "No data for this city: ('goderich', 'sl')\n",
      "No data for this city: ('maridi', 'sd')\n",
      "No data for this city: ('ayer itam', 'my')\n",
      "No data for this city: ('airai', 'pw')\n",
      "No data for this city: ('talawdi', 'sd')\n",
      "No data for this city: ('abomsa', 'et')\n",
      "No data for this city: ('bargal', 'so')\n",
      "No data for this city: ('phan rang', 'vn')\n",
      "No data for this city: ('nioro', 'ml')\n",
      "No data for this city: ('bara', 'sd')\n",
      "No data for this city: ('ginda', 'er')\n",
      "No data for this city: ('bereda', 'so')\n",
      "No data for this city: ('malwan', 'in')\n",
      "No data for this city: ('codrington', 'ag')\n",
      "No data for this city: ('faya', 'td')\n",
      "No data for this city: ('abu samrah', 'qa')\n",
      "No data for this city: ('gat', 'ly')\n",
      "No data for this city: ('tunghsiao', 'tw')\n",
      "No data for this city: ('sakakah', 'sa')\n",
      "No data for this city: ('hendijan', 'ir')\n",
      "No data for this city: ('lasa', 'cn')\n",
      "No data for this city: ('yaan', 'cn')\n",
      "No data for this city: ('sentyabrskiy', 'ru')\n",
      "No data for this city: ('azimur', 'ma')\n",
      "No data for this city: ('wahran', 'dz')\n",
      "No data for this city: ('sidi bu zayd', 'tn')\n",
      "No data for this city: ('zig', 'az')\n",
      "No data for this city: ('chkalovsk', 'tj')\n",
      "No data for this city: ('louisbourg', 'ca')\n",
      "No data for this city: ('indija', 'rs')\n",
      "No data for this city: ('karauzyak', 'uz')\n",
      "No data for this city: ('zhanatas', 'kz')\n",
      "No data for this city: ('urumqi', 'cn')\n",
      "No data for this city: ('wulanhaote', 'cn')\n",
      "No data for this city: ('grand centre', 'ca')\n",
      "No data for this city: ('attawapiskat', 'ca')\n",
      "No data for this city: ('saint anthony', 'ca')\n",
      "No data for this city: ('primore', 'ru')\n",
      "No data for this city: ('senno', 'by')\n",
      "No data for this city: ('kopyevo', 'ru')\n",
      "No data for this city: ('fevralsk', 'ru')\n",
      "No data for this city: ('milkovo', 'ru')\n",
      "No data for this city: ('olafsvik', 'is')\n",
      "No data for this city: ('sorvag', 'fo')\n",
      "No data for this city: ('maarianhamina', 'fi')\n",
      "No data for this city: ('khani', 'ru')\n",
      "No data for this city: ('chagda', 'ru')\n",
      "No data for this city: ('blonduos', 'is')\n",
      "No data for this city: ('a', 'no')\n",
      "No data for this city: ('kamenskoye', 'ru')\n",
      "No data for this city: ('mys shmidta', 'ru')\n",
      "No data for this city: ('bolungarvik', 'is')\n",
      "No data for this city: ('illoqqortoormiut', 'gl')\n",
      "No data for this city: ('belushya guba', 'ru')\n",
      "No data for this city: ('amderma', 'ru')\n",
      "No data for this city: ('barentsburg', 'sj')\n",
      "No data for this city: ('nizhneyansk', 'ru')\n",
      "No data for this city: ('tumannyy', 'ru')\n"
     ]
    },
    {
     "data": {
      "text/html": [
       "<div>\n",
       "<style>\n",
       "    .dataframe thead tr:only-child th {\n",
       "        text-align: right;\n",
       "    }\n",
       "\n",
       "    .dataframe thead th {\n",
       "        text-align: left;\n",
       "    }\n",
       "\n",
       "    .dataframe tbody tr th {\n",
       "        vertical-align: top;\n",
       "    }\n",
       "</style>\n",
       "<table border=\"1\" class=\"dataframe\">\n",
       "  <thead>\n",
       "    <tr style=\"text-align: right;\">\n",
       "      <th></th>\n",
       "      <th>City</th>\n",
       "      <th>Country</th>\n",
       "      <th>Cloudiness</th>\n",
       "      <th>Humidity</th>\n",
       "      <th>Lat</th>\n",
       "      <th>Lon</th>\n",
       "      <th>Temp</th>\n",
       "      <th>Wind Speed</th>\n",
       "    </tr>\n",
       "  </thead>\n",
       "  <tbody>\n",
       "    <tr>\n",
       "      <th>0</th>\n",
       "      <td>Vaini</td>\n",
       "      <td>TO</td>\n",
       "      <td>90</td>\n",
       "      <td>94</td>\n",
       "      <td>-21</td>\n",
       "      <td>-175</td>\n",
       "      <td>78</td>\n",
       "      <td>10</td>\n",
       "    </tr>\n",
       "    <tr>\n",
       "      <th>1</th>\n",
       "      <td>Rikitea</td>\n",
       "      <td>PF</td>\n",
       "      <td>92</td>\n",
       "      <td>100</td>\n",
       "      <td>-23</td>\n",
       "      <td>-134</td>\n",
       "      <td>78</td>\n",
       "      <td>10</td>\n",
       "    </tr>\n",
       "    <tr>\n",
       "      <th>2</th>\n",
       "      <td>Punta Arenas</td>\n",
       "      <td>CL</td>\n",
       "      <td>75</td>\n",
       "      <td>62</td>\n",
       "      <td>-53</td>\n",
       "      <td>-70</td>\n",
       "      <td>55</td>\n",
       "      <td>17</td>\n",
       "    </tr>\n",
       "    <tr>\n",
       "      <th>3</th>\n",
       "      <td>Ushuaia</td>\n",
       "      <td>AR</td>\n",
       "      <td>40</td>\n",
       "      <td>50</td>\n",
       "      <td>-54</td>\n",
       "      <td>-68</td>\n",
       "      <td>55</td>\n",
       "      <td>18</td>\n",
       "    </tr>\n",
       "    <tr>\n",
       "      <th>4</th>\n",
       "      <td>Hermanus</td>\n",
       "      <td>ZA</td>\n",
       "      <td>0</td>\n",
       "      <td>75</td>\n",
       "      <td>-34</td>\n",
       "      <td>19</td>\n",
       "      <td>53</td>\n",
       "      <td>3</td>\n",
       "    </tr>\n",
       "  </tbody>\n",
       "</table>\n",
       "</div>"
      ],
      "text/plain": [
       "           City Country Cloudiness Humidity  Lat   Lon Temp Wind Speed\n",
       "0         Vaini      TO         90       94  -21  -175   78         10\n",
       "1       Rikitea      PF         92      100  -23  -134   78         10\n",
       "2  Punta Arenas      CL         75       62  -53   -70   55         17\n",
       "3       Ushuaia      AR         40       50  -54   -68   55         18\n",
       "4      Hermanus      ZA          0       75  -34    19   53          3"
      ]
     },
     "execution_count": 83,
     "metadata": {},
     "output_type": "execute_result"
    }
   ],
   "source": [
    "count = 0\n",
    "\n",
    "cities_init = {\n",
    "    'City': \"\", \n",
    "    'Country': \"\", \n",
    "    'Lat': \"\", \n",
    "    'Lon': \"\", \n",
    "    'Temp': \"\", \n",
    "    'Humidity': \"\", \n",
    "    'Cloudiness': \"\", \n",
    "    'Wind Speed': \"\"\n",
    "}\n",
    "cities500 = pd.DataFrame(data=cities_init, index=[0])\n",
    "\n",
    "for index,row in citypd.iterrows():\n",
    "    query_url = base_url + row['City'] + \",\" + row['Country']\n",
    "    try:\n",
    "        weather_response = req.get(query_url)\n",
    "        cityweather = weather_response.json()\n",
    "\n",
    "        cities500.set_value(count, \"City\", cityweather['name'])\n",
    "        cities500.set_value(count, \"Country\", cityweather['sys']['country'])\n",
    "        cities500.set_value(count, \"Lat\", int(cityweather['coord']['lat']))\n",
    "        cities500.set_value(count, \"Lon\", int(cityweather['coord']['lon']))\n",
    "        cities500.set_value(count, \"Temp\", int(cityweather['main']['temp']))\n",
    "        cities500.set_value(count, \"Humidity\", int(cityweather['main']['humidity']))\n",
    "        cities500.set_value(count, \"Cloudiness\", int(cityweather['clouds']['all']))\n",
    "        cities500.set_value(count, \"Wind Speed\", int(cityweather['wind']['speed']))\n",
    "        count+= 1\n",
    "    except:\n",
    "        print(f\"No data for this city: {row['City'],row['Country']}\")\n",
    "\n",
    "cities500 = cities500[['City', 'Country', 'Cloudiness', 'Humidity', 'Lat', 'Lon', 'Temp', 'Wind Speed']]\n",
    "cities500.head()"
   ]
  },
  {
   "cell_type": "code",
   "execution_count": 84,
   "metadata": {},
   "outputs": [
    {
     "data": {
      "text/plain": [
       "503"
      ]
     },
     "execution_count": 84,
     "metadata": {},
     "output_type": "execute_result"
    }
   ],
   "source": [
    "len(cities500.index)"
   ]
  },
  {
   "cell_type": "code",
   "execution_count": 111,
   "metadata": {},
   "outputs": [
    {
     "data": {
      "image/png": "[encoded data removed]",
      "text/plain": [
       "<matplotlib.figure.Figure at 0x118d39320>"
      ]
     },
     "metadata": {},
     "output_type": "display_data"
    }
   ],
   "source": [
    "# Plotting the varuius charsts now.\n",
    "\n",
    "# Temperature (F) vs. Latitude \n",
    "# If you want to mention the date in the tile, import \"time\" module\n",
    "import time\n",
    "date = time.strftime(\"%m/%d/%y\")\n",
    "plt.scatter(cities500['Lat'],cities500['Temp'],edgecolor = \"black\", alpha = 0.6, color = \"red\")\n",
    "plt.title(f\" Temperature(F) Vs Latitude {date}\")\n",
    "plt.xlabel('Latitude')\n",
    "plt.ylabel('Temperature(F)')\n",
    "plt.savefig(\"TempVsLat.png\")\n",
    "plt.show()\n"
   ]
  },
  {
   "cell_type": "code",
   "execution_count": 113,
   "metadata": {},
   "outputs": [
    {
     "data": {
      "image/png": "[encoded data removed]",
      "text/plain": [
       "<matplotlib.figure.Figure at 0x119002e48>"
      ]
     },
     "metadata": {},
     "output_type": "display_data"
    }
   ],
   "source": [
    "# Temp vs Lat plot\n",
    "import time\n",
    "date = time.strftime(\"%m/%d/%y\")\n",
    "plt.scatter(cities500[\"Humidity\"], cities500[\"Lat\"], color = \"blue\", edgecolor = 'black',alpha = 0.5)\n",
    "plt.title(f\"Humidity(%) Vs Latitude,{date}\")\n",
    "plt.xlabel(\"Latitude\")\n",
    "plt.ylabel(\"Humdidty(%)\")\n",
    "plt.savefig(\"TempVsLat.png\")\n",
    "plt.show()             "
   ]
  },
  {
   "cell_type": "code",
   "execution_count": null,
   "metadata": {
    "collapsed": true
   },
   "outputs": [],
   "source": []
  }
 ],
 "metadata": {
  "kernelspec": {
   "display_name": "Python 3",
   "language": "python",
   "name": "python3"
  },
  "language_info": {
   "codemirror_mode": {
    "name": "ipython",
    "version": 3
   },
   "file_extension": ".py",
   "mimetype": "text/x-python",
   "name": "python",
   "nbconvert_exporter": "python",
   "pygments_lexer": "ipython3",
   "version": "3.6.2"
  }
 },
 "nbformat": 4,
 "nbformat_minor": 2
}
